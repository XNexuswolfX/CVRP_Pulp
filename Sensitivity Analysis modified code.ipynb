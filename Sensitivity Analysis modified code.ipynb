{
 "cells": [
  {
   "cell_type": "markdown",
   "metadata": {},
   "source": [
    "# OR 6205 Group 3 Project\n",
    "## CVRP to find the most economical location for Warehouse"
   ]
  },
  {
   "cell_type": "markdown",
   "metadata": {},
   "source": [
    "Please Install following packages to run the project"
   ]
  },
  {
   "cell_type": "code",
   "execution_count": 1,
   "metadata": {},
   "outputs": [
    {
     "name": "stdout",
     "output_type": "stream",
     "text": [
      "Requirement already satisfied: numpy in c:\\users\\umang\\anaconda3\\lib\\site-packages (1.19.2)\n",
      "Requirement already satisfied: pandas in c:\\users\\umang\\anaconda3\\lib\\site-packages (1.1.3)\n",
      "Requirement already satisfied: pytz>=2017.2 in c:\\users\\umang\\anaconda3\\lib\\site-packages (from pandas) (2020.1)\n",
      "Requirement already satisfied: python-dateutil>=2.7.3 in c:\\users\\umang\\anaconda3\\lib\\site-packages (from pandas) (2.8.1)\n",
      "Requirement already satisfied: numpy>=1.15.4 in c:\\users\\umang\\anaconda3\\lib\\site-packages (from pandas) (1.19.2)\n",
      "Requirement already satisfied: six>=1.5 in c:\\users\\umang\\anaconda3\\lib\\site-packages (from python-dateutil>=2.7.3->pandas) (1.15.0)\n",
      "Requirement already satisfied: pulp in c:\\users\\umang\\anaconda3\\lib\\site-packages (2.4)\n",
      "Requirement already satisfied: amply>=0.1.2 in c:\\users\\umang\\anaconda3\\lib\\site-packages (from pulp) (0.1.4)\n",
      "Requirement already satisfied: pyparsing in c:\\users\\umang\\anaconda3\\lib\\site-packages (from amply>=0.1.2->pulp) (2.4.7)\n",
      "Requirement already satisfied: docutils>=0.3 in c:\\users\\umang\\anaconda3\\lib\\site-packages (from amply>=0.1.2->pulp) (0.16)\n",
      "Requirement already satisfied: more-itertools in c:\\users\\umang\\anaconda3\\lib\\site-packages (8.6.0)\n"
     ]
    },
    {
     "name": "stderr",
     "output_type": "stream",
     "text": [
      "ERROR: Could not find a version that satisfies the requirement math (from versions: none)\n",
      "ERROR: No matching distribution found for math\n"
     ]
    },
    {
     "name": "stdout",
     "output_type": "stream",
     "text": [
      "Requirement already satisfied: scikit-learn in c:\\users\\umang\\anaconda3\\lib\\site-packages (0.23.2)\n",
      "Requirement already satisfied: threadpoolctl>=2.0.0 in c:\\users\\umang\\anaconda3\\lib\\site-packages (from scikit-learn) (2.1.0)\n",
      "Requirement already satisfied: scipy>=0.19.1 in c:\\users\\umang\\anaconda3\\lib\\site-packages (from scikit-learn) (1.5.2)\n",
      "Requirement already satisfied: numpy>=1.13.3 in c:\\users\\umang\\anaconda3\\lib\\site-packages (from scikit-learn) (1.19.2)\n",
      "Requirement already satisfied: joblib>=0.11 in c:\\users\\umang\\anaconda3\\lib\\site-packages (from scikit-learn) (0.17.0)\n",
      "Requirement already satisfied: matplotlib in c:\\users\\umang\\anaconda3\\lib\\site-packages (3.3.2)\n",
      "Requirement already satisfied: pillow>=6.2.0 in c:\\users\\umang\\anaconda3\\lib\\site-packages (from matplotlib) (8.0.1)\n",
      "Requirement already satisfied: python-dateutil>=2.1 in c:\\users\\umang\\anaconda3\\lib\\site-packages (from matplotlib) (2.8.1)\n",
      "Requirement already satisfied: certifi>=2020.06.20 in c:\\users\\umang\\anaconda3\\lib\\site-packages (from matplotlib) (2020.6.20)\n",
      "Requirement already satisfied: numpy>=1.15 in c:\\users\\umang\\anaconda3\\lib\\site-packages (from matplotlib) (1.19.2)\n",
      "Requirement already satisfied: pyparsing!=2.0.4,!=2.1.2,!=2.1.6,>=2.0.3 in c:\\users\\umang\\anaconda3\\lib\\site-packages (from matplotlib) (2.4.7)\n",
      "Requirement already satisfied: cycler>=0.10 in c:\\users\\umang\\anaconda3\\lib\\site-packages (from matplotlib) (0.10.0)\n",
      "Requirement already satisfied: kiwisolver>=1.0.1 in c:\\users\\umang\\anaconda3\\lib\\site-packages (from matplotlib) (1.3.0)\n",
      "Requirement already satisfied: six>=1.5 in c:\\users\\umang\\anaconda3\\lib\\site-packages (from python-dateutil>=2.1->matplotlib) (1.15.0)\n"
     ]
    }
   ],
   "source": [
    "!pip install numpy\n",
    "!pip install pandas\n",
    "!pip install pulp\n",
    "!pip install more-itertools\n",
    "!pip install math\n",
    "!pip install scikit-learn\n",
    "!pip install matplotlib"
   ]
  },
  {
   "cell_type": "code",
   "execution_count": 1,
   "metadata": {},
   "outputs": [],
   "source": [
    "import numpy as np\n",
    "import pandas as pd\n",
    "import pulp\n",
    "import itertools\n",
    "from math import radians\n",
    "from sklearn.neighbors import DistanceMetric\n",
    "import matplotlib.pyplot as plt"
   ]
  },
  {
   "cell_type": "markdown",
   "metadata": {},
   "source": [
    "### Implementing CVRP to find minimum route distances for all potential warehouse locations "
   ]
  },
  {
   "cell_type": "markdown",
   "metadata": {},
   "source": [
    "Import dataframe which contains demand locations co-ordinates.\n",
    "\n",
    "Ensure that the 'Demands.csv' file is at the same working directory as this notebook"
   ]
  },
  {
   "cell_type": "code",
   "execution_count": 2,
   "metadata": {},
   "outputs": [
    {
     "data": {
      "text/html": [
       "<div>\n",
       "<style scoped>\n",
       "    .dataframe tbody tr th:only-of-type {\n",
       "        vertical-align: middle;\n",
       "    }\n",
       "\n",
       "    .dataframe tbody tr th {\n",
       "        vertical-align: top;\n",
       "    }\n",
       "\n",
       "    .dataframe thead th {\n",
       "        text-align: right;\n",
       "    }\n",
       "</style>\n",
       "<table border=\"1\" class=\"dataframe\">\n",
       "  <thead>\n",
       "    <tr style=\"text-align: right;\">\n",
       "      <th></th>\n",
       "      <th>latitude</th>\n",
       "      <th>longitude</th>\n",
       "      <th>demand</th>\n",
       "    </tr>\n",
       "  </thead>\n",
       "  <tbody>\n",
       "    <tr>\n",
       "      <th>0</th>\n",
       "      <td>42.368197</td>\n",
       "      <td>-71.019922</td>\n",
       "      <td>13</td>\n",
       "    </tr>\n",
       "    <tr>\n",
       "      <th>1</th>\n",
       "      <td>41.927897</td>\n",
       "      <td>-70.141155</td>\n",
       "      <td>14</td>\n",
       "    </tr>\n",
       "    <tr>\n",
       "      <th>2</th>\n",
       "      <td>42.306619</td>\n",
       "      <td>-71.473414</td>\n",
       "      <td>10</td>\n",
       "    </tr>\n",
       "    <tr>\n",
       "      <th>3</th>\n",
       "      <td>41.982628</td>\n",
       "      <td>-71.790283</td>\n",
       "      <td>16</td>\n",
       "    </tr>\n",
       "    <tr>\n",
       "      <th>4</th>\n",
       "      <td>42.792484</td>\n",
       "      <td>-71.404969</td>\n",
       "      <td>15</td>\n",
       "    </tr>\n",
       "    <tr>\n",
       "      <th>5</th>\n",
       "      <td>42.722427</td>\n",
       "      <td>-71.368172</td>\n",
       "      <td>17</td>\n",
       "    </tr>\n",
       "    <tr>\n",
       "      <th>6</th>\n",
       "      <td>42.752336</td>\n",
       "      <td>-71.705351</td>\n",
       "      <td>15</td>\n",
       "    </tr>\n",
       "    <tr>\n",
       "      <th>7</th>\n",
       "      <td>41.677468</td>\n",
       "      <td>-71.308487</td>\n",
       "      <td>15</td>\n",
       "    </tr>\n",
       "    <tr>\n",
       "      <th>8</th>\n",
       "      <td>41.463087</td>\n",
       "      <td>-70.631341</td>\n",
       "      <td>18</td>\n",
       "    </tr>\n",
       "    <tr>\n",
       "      <th>9</th>\n",
       "      <td>42.840534</td>\n",
       "      <td>-70.956215</td>\n",
       "      <td>11</td>\n",
       "    </tr>\n",
       "  </tbody>\n",
       "</table>\n",
       "</div>"
      ],
      "text/plain": [
       "    latitude  longitude  demand\n",
       "0  42.368197 -71.019922      13\n",
       "1  41.927897 -70.141155      14\n",
       "2  42.306619 -71.473414      10\n",
       "3  41.982628 -71.790283      16\n",
       "4  42.792484 -71.404969      15\n",
       "5  42.722427 -71.368172      17\n",
       "6  42.752336 -71.705351      15\n",
       "7  41.677468 -71.308487      15\n",
       "8  41.463087 -70.631341      18\n",
       "9  42.840534 -70.956215      11"
      ]
     },
     "execution_count": 2,
     "metadata": {},
     "output_type": "execute_result"
    }
   ],
   "source": [
    "df = pd.read_csv('Demands.csv')\n",
    "df"
   ]
  },
  {
   "cell_type": "code",
   "execution_count": 3,
   "metadata": {},
   "outputs": [],
   "source": [
    "# adding 3 potential warehouse locations coordinates\n",
    "W_1 = pd.DataFrame({'latitude':[42.340335], 'longitude':[-71.131830], 'demand':[0]})\n",
    "W_2 = pd.DataFrame({'latitude':[42.710020], 'longitude':[-71.740000], 'demand':[0]})\n",
    "W_3 = pd.DataFrame({'latitude':[41.814841], 'longitude':[-71.508300], 'demand':[0]})"
   ]
  },
  {
   "cell_type": "code",
   "execution_count": 4,
   "metadata": {},
   "outputs": [],
   "source": [
    "# new dataframe with potential warehouse locations\n",
    "df1 = pd.concat([W_1, df]).reset_index(drop = True)\n",
    "df2 = pd.concat([W_2, df]).reset_index(drop = True)\n",
    "df3 = pd.concat([W_3, df]).reset_index(drop = True)"
   ]
  },
  {
   "cell_type": "code",
   "execution_count": 5,
   "metadata": {},
   "outputs": [],
   "source": [
    "# function for creating distance matrix for each warehouse locations\n",
    "def get_dist_matrix(df):\n",
    "\n",
    "    df['latitude_rad'] = np.radians(df['latitude'])\n",
    "    df['longitude_rad'] = np.radians(df['longitude'])\n",
    "    df[['latitude_rad','longitude_rad']].to_numpy()\n",
    "    dist = DistanceMetric.get_metric('haversine')\n",
    "    distance = pd.DataFrame(dist.pairwise(df[['latitude_rad','longitude_rad']].to_numpy())*6373,  columns=df.index.unique(), index=df.index.unique())\n",
    "    return distance"
   ]
  },
  {
   "cell_type": "code",
   "execution_count": 6,
   "metadata": {},
   "outputs": [],
   "source": [
    "# function for solving LP with pulp\n",
    "def get_min_dist(distance,vehicle_count,demand_points,vehicle_capacity,df):\n",
    "    for vehicle_count in range(1,vehicle_count+1):\n",
    "\n",
    "        # definition of LpProblem\n",
    "        problem = pulp.LpProblem(\"CVRP\", pulp.LpMinimize)\n",
    "\n",
    "        # definition of variables which are 0/1(decisiion variables if a route is travelled or not)\n",
    "        x = [[[pulp.LpVariable(\"x%s_%s,%s\"%(i,j,k), cat=\"Binary\") if i != j else None for k in range(vehicle_count)]for j in range(demand_points)] for i in range(demand_points)]\n",
    "\n",
    "        # add objective function (minimizing travel distances of all the vehicles)\n",
    "        problem += pulp.lpSum(distance[i][j] * x[i][j][k] if i != j else 0\n",
    "                              for k in range(vehicle_count) \n",
    "                              for j in range(demand_points) \n",
    "                              for i in range (demand_points))\n",
    "\n",
    "        # s.t constraints\n",
    "        # constraint 1 - only 1 visit to every demand point\n",
    "        for j in range(1, demand_points):\n",
    "            problem += pulp.lpSum(x[i][j][k] if i != j else 0 \n",
    "                                  for i in range(demand_points) \n",
    "                                  for k in range(vehicle_count)) == 1 \n",
    "\n",
    "        # constraint 2 - departing from depot(warehouse node-0)\n",
    "        for k in range(vehicle_count):\n",
    "            problem += pulp.lpSum(x[0][j][k] for j in range(1,demand_points)) == 1\n",
    "            problem += pulp.lpSum(x[i][0][k] for i in range(1,demand_points)) == 1\n",
    "\n",
    "        # constraint 3 - no of vehicles entering and leaving a demand point is same\n",
    "        for k in range(vehicle_count):\n",
    "            for j in range(demand_points):\n",
    "                problem += pulp.lpSum(x[i][j][k] if i != j else 0 \n",
    "                                      for i in range(demand_points)) -  pulp.lpSum(x[j][i][k] for i in range(demand_points)) == 0\n",
    "\n",
    "        # constraint 4 - capacity constraint, delivery capacity must not exceed vehicle capacity\n",
    "        for k in range(vehicle_count):\n",
    "            problem += pulp.lpSum(df.demand[j] * x[i][j][k] if i != j else 0 for i in range(demand_points) for j in range (1,demand_points)) <= vehicle_capacity \n",
    "       \n",
    "\n",
    "        # constraint 5 - eliminating subtours()\n",
    "        subtours = []\n",
    "        for i in range(2,demand_points):\n",
    "             subtours += itertools.combinations(range(1,demand_points), i)\n",
    "\n",
    "        for s in subtours:\n",
    "            problem += pulp.lpSum(x[i][j][k] if i !=j else 0 for i, j in itertools.permutations(s,2) for k in range(vehicle_count)) <= len(s) - 1\n",
    "        \n",
    "        # print vehicle_count which needed for solving problem\n",
    "        # print calculated minimum distance value\n",
    "        if problem.solve() == 1:\n",
    "            print('Vehicle Requirement:', vehicle_count)\n",
    "            print('Total route distance kms:', pulp.value(problem.objective))\n",
    "            plt.figure(figsize=(8,8))\n",
    "            for i in range(demand_points):    \n",
    "                if i == 0:\n",
    "                    plt.scatter(df.latitude[i], df.longitude[i], c='green', s=200)\n",
    "                    plt.text(df.latitude[i], df.longitude[i], \"warehouse\", fontsize=12)\n",
    "                else:\n",
    "                    plt.scatter(df.latitude[i], df.longitude[i], c='orange', s=200)\n",
    "                    plt.text(df.latitude[i], df.longitude[i], str(df.demand[i]), fontsize=12)\n",
    "\n",
    "            for k in range(vehicle_count):\n",
    "                for i in range(demand_points):\n",
    "                    for j in range(demand_points):\n",
    "                        if i != j and pulp.value(x[i][j][k]) == 1:\n",
    "                            plt.plot([df.latitude[i], df.latitude[j]], [df.longitude[i], df.longitude[j]], c=\"black\")\n",
    "            plot=plt.show\n",
    "            return vehicle_count, pulp.value(problem.objective),plot\n",
    "            break\n",
    "            "
   ]
  },
  {
   "cell_type": "code",
   "execution_count": 7,
   "metadata": {},
   "outputs": [],
   "source": [
    "def get_warehouse_optimal_dist(df,vehicle_count,vehicle_capacity,demand_points=11):\n",
    "    dist_mat = get_dist_matrix(df)\n",
    "    result = get_min_dist(dist_mat,vehicle_count,demand_points,vehicle_capacity,df)\n",
    "    return result"
   ]
  },
  {
   "cell_type": "markdown",
   "metadata": {},
   "source": [
    "#### The following 3 cells should take 3-6 minutes to compute due to the complexity"
   ]
  },
  {
   "cell_type": "code",
   "execution_count": 8,
   "metadata": {},
   "outputs": [
    {
     "name": "stdout",
     "output_type": "stream",
     "text": [
      "Vehicle Requirement: 3\n",
      "Total route distance kms: 688.7710718382834\n",
      "Wall time: 1min\n"
     ]
    },
    {
     "data": {
      "image/png": "[encoded data removed]",
      "text/plain": [
       "<Figure size 576x576 with 1 Axes>"
      ]
     },
     "metadata": {
      "needs_background": "light"
     },
     "output_type": "display_data"
    }
   ],
   "source": [
    "%%time\n",
    "W1_vehicles,W1_route,W1_plot = get_warehouse_optimal_dist(df1,vehicle_count=4,vehicle_capacity=50)\n"
   ]
  },
  {
   "cell_type": "code",
   "execution_count": 9,
   "metadata": {},
   "outputs": [
    {
     "name": "stdout",
     "output_type": "stream",
     "text": [
      "Vehicle Requirement: 2\n",
      "Total route distance kms: 539.8953844072199\n",
      "Wall time: 5.45 s\n"
     ]
    },
    {
     "data": {
      "image/png": "[encoded data removed]",
      "text/plain": [
       "<Figure size 576x576 with 1 Axes>"
      ]
     },
     "metadata": {
      "needs_background": "light"
     },
     "output_type": "display_data"
    }
   ],
   "source": [
    "%%time\n",
    "W2_vehicles,W2_route,W2_plot = get_warehouse_optimal_dist(df2,vehicle_count=2,vehicle_capacity=120)\n"
   ]
  },
  {
   "cell_type": "code",
   "execution_count": null,
   "metadata": {},
   "outputs": [],
   "source": [
    "%%time\n",
    "W3_vehicles,W3_route,W3_plot = get_warehouse_optimal_dist(df3,vehicle_count=6,vehicle_capacity=30)"
   ]
  },
  {
   "cell_type": "code",
   "execution_count": 12,
   "metadata": {},
   "outputs": [
    {
     "data": {
      "text/plain": [
       "[688.77, 755.93, 777.62]"
      ]
     },
     "execution_count": 12,
     "metadata": {},
     "output_type": "execute_result"
    }
   ],
   "source": [
    "# appending distances to a list\n",
    "route_distances = [round(W1_route,ndigits=2),round(W2_route, ndigits=2),round(W3_route, ndigits=2)]\n",
    "route_distances"
   ]
  },
  {
   "cell_type": "code",
   "execution_count": 13,
   "metadata": {},
   "outputs": [
    {
     "data": {
      "text/plain": [
       "[3, 3, 3]"
      ]
     },
     "execution_count": 13,
     "metadata": {},
     "output_type": "execute_result"
    }
   ],
   "source": [
    "# appending vehicle requirements list\n",
    "no_of_vehicles = [W1_vehicles,W2_vehicles,W3_vehicles]\n",
    "no_of_vehicles"
   ]
  },
  {
   "cell_type": "markdown",
   "metadata": {},
   "source": [
    "### Final Decision LP\n",
    "\n",
    "Here we are using the distance obtained from CVRP to find the minimum cost for establishing a warehouse at a given location.\n",
    "\n",
    "We determine the most economical warehouse based on financials constraints where we calculate the sum of Fixed and Variable costs for each warehouse."
   ]
  },
  {
   "cell_type": "code",
   "execution_count": 14,
   "metadata": {},
   "outputs": [],
   "source": [
    "# Setting the fixed and variable costs parameters for each warehouse\n",
    "warehouse_fixed_costs = [150000, 180000, 120000]\n",
    "cost_per_km = [2,2,2]\n",
    "cost_of_vehicle = [2000, 2000, 2000]\n",
    "warehouses = ['1','2','3']"
   ]
  },
  {
   "cell_type": "code",
   "execution_count": 15,
   "metadata": {},
   "outputs": [],
   "source": [
    "# Calculating the variable costs required for LP \n",
    "transport_costs = [cost_per_km[i]*route_distances[i] for i in range(len(cost_per_km))]\n",
    "vehicle_costs = [no_of_vehicles[i]*cost_of_vehicle[i] for i in range(len(no_of_vehicles))]\n",
    "variable_costs = [transport_costs[i]+vehicle_costs[i] for i in range(len(transport_costs))]"
   ]
  },
  {
   "cell_type": "markdown",
   "metadata": {},
   "source": [
    "##### Creating LP problem (Cost Minimization) for second step "
   ]
  },
  {
   "cell_type": "code",
   "execution_count": 16,
   "metadata": {},
   "outputs": [],
   "source": [
    "model = pulp.LpProblem(\"Warehouse_Decision_and_Cost\", pulp.LpMinimize)"
   ]
  },
  {
   "cell_type": "code",
   "execution_count": 17,
   "metadata": {},
   "outputs": [],
   "source": [
    "# Creating Binary decision Variables for the warehouse & vehicles\n",
    "warehouse_dv = pulp.LpVariable.matrix(\"X\", warehouses, cat = \"Binary\", lowBound = 0)\n",
    "warehouse_dv_values = np.array(warehouse_dv)\n",
    "\n",
    "vehicle_dv = pulp.LpVariable.matrix(\"Y\", warehouses, cat = \"Binary\", lowBound = 0)\n",
    "vehicle_dv_values = np.array(vehicle_dv)"
   ]
  },
  {
   "cell_type": "code",
   "execution_count": 18,
   "metadata": {},
   "outputs": [
    {
     "data": {
      "text/plain": [
       "Warehouse_Decision_and_Cost:\n",
       "MINIMIZE\n",
       "150000*X_1 + 180000*X_2 + 120000*X_3 + 7377.54*Y_1 + 7511.86*Y_2 + 7555.24*Y_3 + 0.0\n",
       "VARIABLES\n",
       "0 <= X_1 <= 1 Integer\n",
       "0 <= X_2 <= 1 Integer\n",
       "0 <= X_3 <= 1 Integer\n",
       "0 <= Y_1 <= 1 Integer\n",
       "0 <= Y_2 <= 1 Integer\n",
       "0 <= Y_3 <= 1 Integer"
      ]
     },
     "execution_count": 18,
     "metadata": {},
     "output_type": "execute_result"
    }
   ],
   "source": [
    "# Defining Objective Function\n",
    "obj_func = pulp.lpSum(variable_costs*vehicle_dv_values)\n",
    "obj_func += pulp.lpSum(warehouse_fixed_costs*warehouse_dv_values)\n",
    "model += obj_func\n",
    "model"
   ]
  },
  {
   "cell_type": "code",
   "execution_count": 19,
   "metadata": {},
   "outputs": [],
   "source": [
    "# Adding constraint if warehouse is built then vehicle must be procured\n",
    "for i in range(0,3):\n",
    "    const1 = pulp.lpSum(warehouse_dv_values[i]) == pulp.lpSum(vehicle_dv_values[i]), \"Delivery Vehicles Purchased for Warehouse\" + str(i)\n",
    "    model += const1"
   ]
  },
  {
   "cell_type": "code",
   "execution_count": 20,
   "metadata": {},
   "outputs": [],
   "source": [
    "# Adding constraint for only one warehouse selection\n",
    "const2 = pulp.lpSum(warehouse_dv_values) == 1, \"Only one warehouse is made\"\n",
    "model += const2"
   ]
  },
  {
   "cell_type": "code",
   "execution_count": 21,
   "metadata": {},
   "outputs": [],
   "source": [
    "# Adding Constraint for operations budget wrt capital\n",
    "for i in range(len(vehicle_dv_values)):\n",
    "    const3 = pulp.lpSum(vehicle_dv_values[i]*variable_costs[i])<= 0.10*warehouse_fixed_costs[i], \"Operations budget wrt capital\" + str(i+1)\n",
    "    model += const3"
   ]
  },
  {
   "cell_type": "code",
   "execution_count": 22,
   "metadata": {},
   "outputs": [
    {
     "data": {
      "text/plain": [
       "Warehouse_Decision_and_Cost:\n",
       "MINIMIZE\n",
       "150000*X_1 + 180000*X_2 + 120000*X_3 + 7377.54*Y_1 + 7511.86*Y_2 + 7555.24*Y_3 + 0.0\n",
       "SUBJECT TO\n",
       "Delivery_Vehicles_Purchased_for_Warehouse0: X_1 - Y_1 = 0\n",
       "\n",
       "Delivery_Vehicles_Purchased_for_Warehouse1: X_2 - Y_2 = 0\n",
       "\n",
       "Delivery_Vehicles_Purchased_for_Warehouse2: X_3 - Y_3 = 0\n",
       "\n",
       "Only_one_warehouse_is_made: X_1 + X_2 + X_3 = 1\n",
       "\n",
       "Operations_budget_wrt_capital1: 7377.54 Y_1 <= 15000\n",
       "\n",
       "Operations_budget_wrt_capital2: 7511.86 Y_2 <= 18000\n",
       "\n",
       "Operations_budget_wrt_capital3: 7555.24 Y_3 <= 12000\n",
       "\n",
       "VARIABLES\n",
       "0 <= X_1 <= 1 Integer\n",
       "0 <= X_2 <= 1 Integer\n",
       "0 <= X_3 <= 1 Integer\n",
       "0 <= Y_1 <= 1 Integer\n",
       "0 <= Y_2 <= 1 Integer\n",
       "0 <= Y_3 <= 1 Integer"
      ]
     },
     "execution_count": 22,
     "metadata": {},
     "output_type": "execute_result"
    }
   ],
   "source": [
    "model"
   ]
  },
  {
   "cell_type": "code",
   "execution_count": 23,
   "metadata": {},
   "outputs": [
    {
     "data": {
      "text/plain": [
       "1"
      ]
     },
     "execution_count": 23,
     "metadata": {},
     "output_type": "execute_result"
    }
   ],
   "source": [
    "# Selecting Solver and solving the model\n",
    "solver = pulp.PULP_CBC_CMD() \n",
    "model.solve(solver)"
   ]
  },
  {
   "cell_type": "code",
   "execution_count": 24,
   "metadata": {},
   "outputs": [
    {
     "data": {
      "text/plain": [
       "'Optimal'"
      ]
     },
     "execution_count": 24,
     "metadata": {},
     "output_type": "execute_result"
    }
   ],
   "source": [
    "status = pulp.LpStatus[model.status]\n",
    "status"
   ]
  },
  {
   "cell_type": "code",
   "execution_count": 25,
   "metadata": {},
   "outputs": [
    {
     "data": {
      "text/plain": [
       "127555.24"
      ]
     },
     "execution_count": 25,
     "metadata": {},
     "output_type": "execute_result"
    }
   ],
   "source": [
    "model.objective.value()"
   ]
  },
  {
   "cell_type": "code",
   "execution_count": 26,
   "metadata": {},
   "outputs": [
    {
     "name": "stdout",
     "output_type": "stream",
     "text": [
      "Total Cost: 127555.24\n",
      "X_1 = 0.0\n",
      "X_2 = 0.0\n",
      "X_3 = 1.0\n",
      "Y_1 = 0.0\n",
      "Y_2 = 0.0\n",
      "Y_3 = 1.0\n"
     ]
    }
   ],
   "source": [
    "# Objective Func and DV values\n",
    "print(\"Total Cost:\", model.objective.value())\n",
    "# Decision Variables\n",
    "\n",
    "for v in model.variables():\n",
    "    try:\n",
    "        print(v.name,\"=\", v.value())\n",
    "    except:\n",
    "        print(\"error couldnt find value\")"
   ]
  },
  {
   "cell_type": "code",
   "execution_count": null,
   "metadata": {},
   "outputs": [],
   "source": []
  },
  {
   "cell_type": "code",
   "execution_count": null,
   "metadata": {},
   "outputs": [],
   "source": []
  },
  {
   "cell_type": "code",
   "execution_count": null,
   "metadata": {},
   "outputs": [],
   "source": [
    "%%time\n",
    "W2_vehicles,W2_route,W2_plot = get_warehouse_optimal_dist(df2,vehicle_count=2,vehicle_capacity=120)\n"
   ]
  }
 ],
 "metadata": {
  "kernelspec": {
   "display_name": "Python 3",
   "language": "python",
   "name": "python3"
  },
  "language_info": {
   "codemirror_mode": {
    "name": "ipython",
    "version": 3
   },
   "file_extension": ".py",
   "mimetype": "text/x-python",
   "name": "python",
   "nbconvert_exporter": "python",
   "pygments_lexer": "ipython3",
   "version": "3.8.5"
  }
 },
 "nbformat": 4,
 "nbformat_minor": 4
}
