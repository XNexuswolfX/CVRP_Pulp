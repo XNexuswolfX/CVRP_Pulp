{
 "cells": [
  {
   "cell_type": "code",
   "execution_count": 190,
   "metadata": {},
   "outputs": [],
   "source": [
    "import numpy as np\n",
    "import pandas as pd\n",
    "import pulp\n",
    "import itertools\n",
    "from math import radians\n",
    "import scipy as sp\n",
    "from sklearn.neighbors import DistanceMetric"
   ]
  },
  {
   "cell_type": "code",
   "execution_count": 214,
   "metadata": {},
   "outputs": [
    {
     "data": {
      "text/html": [
       "<div>\n",
       "<style scoped>\n",
       "    .dataframe tbody tr th:only-of-type {\n",
       "        vertical-align: middle;\n",
       "    }\n",
       "\n",
       "    .dataframe tbody tr th {\n",
       "        vertical-align: top;\n",
       "    }\n",
       "\n",
       "    .dataframe thead th {\n",
       "        text-align: right;\n",
       "    }\n",
       "</style>\n",
       "<table border=\"1\" class=\"dataframe\">\n",
       "  <thead>\n",
       "    <tr style=\"text-align: right;\">\n",
       "      <th></th>\n",
       "      <th>latitude</th>\n",
       "      <th>longitude</th>\n",
       "      <th>demand</th>\n",
       "    </tr>\n",
       "  </thead>\n",
       "  <tbody>\n",
       "    <tr>\n",
       "      <th>0</th>\n",
       "      <td>41.927897</td>\n",
       "      <td>-70.141155</td>\n",
       "      <td>14</td>\n",
       "    </tr>\n",
       "    <tr>\n",
       "      <th>1</th>\n",
       "      <td>42.306619</td>\n",
       "      <td>-71.473414</td>\n",
       "      <td>10</td>\n",
       "    </tr>\n",
       "    <tr>\n",
       "      <th>2</th>\n",
       "      <td>41.982628</td>\n",
       "      <td>-71.790283</td>\n",
       "      <td>16</td>\n",
       "    </tr>\n",
       "    <tr>\n",
       "      <th>3</th>\n",
       "      <td>42.792484</td>\n",
       "      <td>-71.404969</td>\n",
       "      <td>15</td>\n",
       "    </tr>\n",
       "    <tr>\n",
       "      <th>4</th>\n",
       "      <td>42.722427</td>\n",
       "      <td>-71.368172</td>\n",
       "      <td>17</td>\n",
       "    </tr>\n",
       "    <tr>\n",
       "      <th>5</th>\n",
       "      <td>42.752336</td>\n",
       "      <td>-71.705351</td>\n",
       "      <td>15</td>\n",
       "    </tr>\n",
       "    <tr>\n",
       "      <th>6</th>\n",
       "      <td>41.677468</td>\n",
       "      <td>-71.308487</td>\n",
       "      <td>15</td>\n",
       "    </tr>\n",
       "    <tr>\n",
       "      <th>7</th>\n",
       "      <td>41.463087</td>\n",
       "      <td>-70.631341</td>\n",
       "      <td>18</td>\n",
       "    </tr>\n",
       "    <tr>\n",
       "      <th>8</th>\n",
       "      <td>42.840534</td>\n",
       "      <td>-70.956215</td>\n",
       "      <td>11</td>\n",
       "    </tr>\n",
       "  </tbody>\n",
       "</table>\n",
       "</div>"
      ],
      "text/plain": [
       "    latitude  longitude  demand\n",
       "0  41.927897 -70.141155      14\n",
       "1  42.306619 -71.473414      10\n",
       "2  41.982628 -71.790283      16\n",
       "3  42.792484 -71.404969      15\n",
       "4  42.722427 -71.368172      17\n",
       "5  42.752336 -71.705351      15\n",
       "6  41.677468 -71.308487      15\n",
       "7  41.463087 -70.631341      18\n",
       "8  42.840534 -70.956215      11"
      ]
     },
     "execution_count": 214,
     "metadata": {},
     "output_type": "execute_result"
    }
   ],
   "source": [
    "# import dataframe which contains demand locations co-ordinates\n",
    "df = pd.read_csv('Demands.csv')\n",
    "df"
   ]
  },
  {
   "cell_type": "code",
   "execution_count": 215,
   "metadata": {},
   "outputs": [],
   "source": [
    "# adding 3 potential warehouse locations coordinates\n",
    "W_1 = pd.DataFrame({'latitude':[42.340335], 'longitude':[-71.131830], 'demand':[0]})\n",
    "W_2 = pd.DataFrame({'latitude':[42.392390], 'longitude':[-71.139340], 'demand':[0]})\n",
    "W_3 = pd.DataFrame({'latitude':[42.294840], 'longitude':[-71.072297], 'demand':[0]})"
   ]
  },
  {
   "cell_type": "code",
   "execution_count": 216,
   "metadata": {},
   "outputs": [],
   "source": [
    "# new dataframe with potential warehouse locations\n",
    "df1 = pd.concat([W_1, df]).reset_index(drop = True)\n",
    "df2 = pd.concat([W_2, df]).reset_index(drop = True)\n",
    "df3 = pd.concat([W_3, df]).reset_index(drop = True)"
   ]
  },
  {
   "cell_type": "code",
   "execution_count": 206,
   "metadata": {},
   "outputs": [],
   "source": [
    "# function for creating distance matrix for each warehouse locations\n",
    "def get_dist_matrix(df):\n",
    "\n",
    "    df['latitude'] = np.radians(df['latitude'])\n",
    "    df['longitude'] = np.radians(df['longitude'])\n",
    "    df[['latitude','longitude']].to_numpy()\n",
    "    dist = DistanceMetric.get_metric('haversine')\n",
    "    distance = pd.DataFrame(dist.pairwise(df[['latitude','longitude']].to_numpy())*6373,  columns=df.index.unique(), index=df.index.unique())\n",
    "    return distance"
   ]
  },
  {
   "cell_type": "code",
   "execution_count": 207,
   "metadata": {},
   "outputs": [],
   "source": [
    "# function for solving LP with pulp\n",
    "def get_min_dist(distance,vehicle_count,customer_count,vehicle_capacity,df):\n",
    "    for vehicle_count in range(1,vehicle_count+1):\n",
    "\n",
    "        # definition of LpProblem\n",
    "        problem = pulp.LpProblem(\"CVRP\", pulp.LpMinimize)\n",
    "\n",
    "        # definition of variables which are 0/1(decisiion variables if a route is travelled or not)\n",
    "        x = [[[pulp.LpVariable(\"x%s_%s,%s\"%(i,j,k), cat=\"Binary\") if i != j else None for k in range(vehicle_count)]for j in range(customer_count)] for i in range(customer_count)]\n",
    "\n",
    "        # add objective function (minimizing travel distances of all the vehicles)\n",
    "        problem += pulp.lpSum(distance[i][j] * x[i][j][k] if i != j else 0\n",
    "                              for k in range(vehicle_count) \n",
    "                              for j in range(customer_count) \n",
    "                              for i in range (customer_count))\n",
    "\n",
    "        # s.t constraints\n",
    "        # constraint 1 - only 1 visit to every demand point\n",
    "        for j in range(1, customer_count):\n",
    "            problem += pulp.lpSum(x[i][j][k] if i != j else 0 \n",
    "                                  for i in range(customer_count) \n",
    "                                  for k in range(vehicle_count)) == 1 \n",
    "\n",
    "        # constraint 2 - departing from depot(warehouse node-0)\n",
    "        for k in range(vehicle_count):\n",
    "            problem += pulp.lpSum(x[0][j][k] for j in range(1,customer_count)) == 1\n",
    "            problem += pulp.lpSum(x[i][0][k] for i in range(1,customer_count)) == 1\n",
    "\n",
    "        # constraint 3 - no of vehicles entering and leaving a demand point is same\n",
    "        for k in range(vehicle_count):\n",
    "            for j in range(customer_count):\n",
    "                problem += pulp.lpSum(x[i][j][k] if i != j else 0 \n",
    "                                      for i in range(customer_count)) -  pulp.lpSum(x[j][i][k] for i in range(customer_count)) == 0\n",
    "\n",
    "        # constraint 4 - capacity constraint, delivery capacity must not exceed vehicle capacity\n",
    "        for k in range(vehicle_count):\n",
    "            problem += pulp.lpSum(df.demand[j] * x[i][j][k] if i != j else 0 for i in range(customer_count) for j in range (1,customer_count)) <= vehicle_capacity \n",
    "\n",
    "\n",
    "        # constraint 5 - eliminating subtours()\n",
    "        subtours = []\n",
    "        for i in range(2,customer_count):\n",
    "             subtours += itertools.combinations(range(1,customer_count), i)\n",
    "\n",
    "        for s in subtours:\n",
    "            problem += pulp.lpSum(x[i][j][k] if i !=j else 0 for i, j in itertools.permutations(s,2) for k in range(vehicle_count)) <= len(s) - 1\n",
    "\n",
    "\n",
    "        # print vehicle_count which needed for solving problem\n",
    "        # print calculated minimum distance value\n",
    "        if problem.solve() == 1:\n",
    "            print('Vehicle Requirements:', vehicle_count)\n",
    "            print('Moving Distance kms:', pulp.value(problem.objective))\n",
    "            break\n",
    "            \n",
    "            return vehicle_count, pulp.value(problem.objective)"
   ]
  },
  {
   "cell_type": "code",
   "execution_count": 208,
   "metadata": {},
   "outputs": [],
   "source": [
    "def get_warehouse_optimal_dist(df,vehicle_count,vehicle_capacity,customer_count=len(df)):\n",
    "    dist_mat = get_dist_matrix(df)\n",
    "    result = get_min_dist(dist_mat, vehicle_count, customer_count, vehicle_capacity,df)\n",
    "    return result"
   ]
  },
  {
   "cell_type": "code",
   "execution_count": 217,
   "metadata": {},
   "outputs": [
    {
     "name": "stdout",
     "output_type": "stream",
     "text": [
      "Vehicle Requirements: 3\n",
      "Moving Distance kms: 581.6600524669502\n"
     ]
    }
   ],
   "source": [
    "get_warehouse_optimal_dist(df1,vehicle_count=4,vehicle_capacity=50)"
   ]
  },
  {
   "cell_type": "code",
   "execution_count": null,
   "metadata": {},
   "outputs": [],
   "source": []
  }
 ],
 "metadata": {
  "kernelspec": {
   "display_name": "Python 3",
   "language": "python",
   "name": "python3"
  },
  "language_info": {
   "codemirror_mode": {
    "name": "ipython",
    "version": 3
   },
   "file_extension": ".py",
   "mimetype": "text/x-python",
   "name": "python",
   "nbconvert_exporter": "python",
   "pygments_lexer": "ipython3",
   "version": "3.8.5"
  }
 },
 "nbformat": 4,
 "nbformat_minor": 4
}
